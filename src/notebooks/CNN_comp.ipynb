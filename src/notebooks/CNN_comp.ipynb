{
 "cells": [
  {
   "cell_type": "code",
   "execution_count": 3,
   "metadata": {
    "id": "0ioXSvXksW5t"
   },
   "outputs": [
    {
     "name": "stdout",
     "output_type": "stream",
     "text": [
      "The autoreload extension is already loaded. To reload it, use:\n",
      "  %reload_ext autoreload\n"
     ]
    }
   ],
   "source": [
    "%load_ext autoreload\n",
    "%autoreload 2\n",
    "\n",
    "import sys\n",
    "from pathlib import Path\n",
    "sys.path.append(str(Path.cwd().parent))\n",
    "\n",
    "# Project modules\n",
    "from utils import *\n",
    "from utils_visualisation import *\n",
    "from Data_Handler import ClimbingDataset\n",
    "from models import *\n",
    "from trainer import *\n",
    "\n",
    "# PyTorch\n",
    "import torch\n",
    "import torch.nn as nn\n",
    "import torch.nn.functional as F\n",
    "import torch.optim as optim\n",
    "from torch.utils.data import DataLoader, Dataset, random_split\n",
    "from torchmetrics.classification import MulticlassAccuracy\n",
    "\n",
    "\n",
    "# Image filters\n",
    "import kornia.filters as KF\n",
    "\n",
    "#Bayesian Hyperparam\n",
    "import optuna"
   ]
  },
  {
   "cell_type": "code",
   "execution_count": 4,
   "metadata": {},
   "outputs": [
    {
     "data": {
      "text/plain": [
       "'cpu'"
      ]
     },
     "execution_count": 4,
     "metadata": {},
     "output_type": "execute_result"
    }
   ],
   "source": [
    "torch.__version__\n",
    "device = \"cuda\" if torch.cuda.is_available() else \"cpu\"\n",
    "device\n"
   ]
  },
  {
   "cell_type": "code",
   "execution_count": null,
   "metadata": {
    "colab": {
     "base_uri": "https://localhost:8080/"
    },
    "executionInfo": {
     "elapsed": 4004,
     "status": "ok",
     "timestamp": 1758101392172,
     "user": {
      "displayName": "Fritz Hocker",
      "userId": "14167107387628010693"
     },
     "user_tz": -120
    },
    "id": "_d5WlH-2scBY",
    "outputId": "28d391ec-7bad-43af-a074-04c2420886e1"
   },
   "outputs": [],
   "source": [
    "def objective(trial: optuna.Trial):\n",
    "    blur_kernel_size = trial.suggest_categorical(\"blur_kernel_size\", [1, 3, 5, 7]) \n",
    "    blur_sigma = trial.suggest_float(\"blur_sigma\", 0.5, 3)\n",
    "    batch_size = trial.suggest_categorical(\"batch_size\", [16, 32, 64])\n",
    "    hidden_units_CNN = trial.suggest_categorical(\"hidden_units_CNN\", [8, 16, 32, 64])\n",
    "    hidden_units_classifier = trial.suggest_categorical(\"hidden_units_classifier\", [16, 32, 64, 128, 256])\n",
    "    lr = trial.suggest_float(\"lr\", 1e-5, 1e-2, log=True)   # log scale\n",
    "    weight_decay = trial.suggest_float(\"weight_decay\", 1e-6, 1e-3, log=True)\n",
    "    \n",
    "    # Load Data \n",
    "    # necessary bc blur is hyperparameter dependent\n",
    "    \n",
    "    transform = KF.GaussianBlur2d(kernel_size=(blur_kernel_size, blur_kernel_size), sigma=(blur_sigma, blur_sigma), border_type=\"constant\")\n",
    "    two_class_dataset = ClimbingDataset(board_names=[\"12 x 12 with kickboard Square\"],\n",
    "                                map=True, \n",
    "                                transform=transform,\n",
    "                                label_filter=[5, 14],  # 6a+ & 7c\n",
    "                                max_samples=10000 \n",
    "    )\n",
    "    num_classes = two_class_dataset.num_classes\n",
    "    \n",
    "    \n",
    "    train_size = int(0.8 * len(two_class_dataset))  # 80% train\n",
    "    test_size = len(two_class_dataset) - train_size\n",
    "\n",
    "    # Deterministic split (set generator seed for reproducibility)\n",
    "    train_dataset, test_dataset = random_split(\n",
    "        two_class_dataset,\n",
    "        [train_size, test_size],\n",
    "        generator=torch.Generator().manual_seed(42)\n",
    "    )\n",
    "\n",
    "    # Wrap in DataLoaders\n",
    "    train_loader = DataLoader(train_dataset, batch_size=batch_size, shuffle=True, num_workers=4, pin_memory=True)\n",
    "    test_loader = DataLoader(test_dataset, batch_size=batch_size, shuffle=False, num_workers=4, pin_memory=True)\n",
    "        \n",
    "    \n",
    "    #Model\n",
    "    model_0 = shallowCNN(input_shape= 4,\n",
    "                     hidden_units_CNN= hidden_units_CNN, \n",
    "                     hidden_units_classifier=  hidden_units_classifier, \n",
    "                     output_shape=num_classes \n",
    "                     ).to(device)\n",
    "\n",
    "\n",
    "    # Loss and Optimizer\n",
    "    loss_fn = torch.nn.BCEWithLogitsLoss()\n",
    "    acc_fn = Multiclass_accuracy()# MulticlassAccuracy(num_classes=num_classes).to(device)\n",
    "    optimizer = optim.Adam(model_0.parameters(), lr=lr, weight_decay=weight_decay )\n",
    "    \n",
    "    \n",
    "    model, history = train_model(\n",
    "        model=model_0,\n",
    "        train_loader=train_loader,\n",
    "        test_loader=test_loader,\n",
    "        loss_fn=loss_fn,\n",
    "        optimizer=optimizer,\n",
    "        acc_fn=acc_fn,\n",
    "        device=device,\n",
    "        epochs=30,\n",
    "        patience=7\n",
    "    )\n",
    "    \n",
    "    return history[\"test_acc\"][-1]\n",
    "    \n",
    "    \n",
    "    \n",
    "    \n",
    "\n"
   ]
  },
  {
   "cell_type": "code",
   "execution_count": null,
   "metadata": {},
   "outputs": [
    {
     "name": "stderr",
     "output_type": "stream",
     "text": [
      "[I 2025-09-26 21:15:50,161] A new study created in memory with name: no-name-92039262-692c-4919-abe7-6c1488382859\n"
     ]
    },
    {
     "name": "stderr",
     "output_type": "stream",
     "text": [
      "/home/fillies/Documents/moon/kilter/.venv/lib/python3.12/site-packages/torch/utils/data/dataloader.py:666: UserWarning: 'pin_memory' argument is set as true but no accelerator is found, then device pinned memory won't be used.\n",
      "  warnings.warn(warn_msg)\n",
      "[I 2025-09-26 21:16:06,826] Trial 0 finished with value: 0.7531994049038205 and parameters: {'blur_kernel_size': 3, 'blur_sigma': 2.224280366857611, 'batch_size': 16, 'hidden_units_CNN': 16, 'hidden_units_classifier': 32, 'lr': 0.007573217737704389, 'weight_decay': 2.1844583478564822e-06}. Best is trial 0 with value: 0.7531994049038205.\n",
      "/home/fillies/Documents/moon/kilter/.venv/lib/python3.12/site-packages/torch/utils/data/dataloader.py:666: UserWarning: 'pin_memory' argument is set as true but no accelerator is found, then device pinned memory won't be used.\n",
      "  warnings.warn(warn_msg)\n",
      "[I 2025-09-26 21:16:38,525] Trial 1 finished with value: 0.42991071433893274 and parameters: {'blur_kernel_size': 5, 'blur_sigma': 1.3085288000054336, 'batch_size': 16, 'hidden_units_CNN': 16, 'hidden_units_classifier': 128, 'lr': 0.0020670597991133905, 'weight_decay': 8.097133170006132e-06}. Best is trial 0 with value: 0.7531994049038205.\n",
      "/home/fillies/Documents/moon/kilter/.venv/lib/python3.12/site-packages/torch/utils/data/dataloader.py:666: UserWarning: 'pin_memory' argument is set as true but no accelerator is found, then device pinned memory won't be used.\n",
      "  warnings.warn(warn_msg)\n",
      "[I 2025-09-26 21:17:14,150] Trial 2 finished with value: 0.6369527642216001 and parameters: {'blur_kernel_size': 5, 'blur_sigma': 1.6858850896596462, 'batch_size': 32, 'hidden_units_CNN': 32, 'hidden_units_classifier': 16, 'lr': 0.0003865895713094521, 'weight_decay': 0.00044866876846955475}. Best is trial 0 with value: 0.7531994049038205.\n"
     ]
    }
   ],
   "source": [
    "study = optuna.create_study(direction=\"maximize\")\n",
    "study.optimize(objective, n_trials=5)\n",
    "\n",
    "print(\"Best trial:\")\n",
    "print(\"  Value:\", study.best_trial.value)\n",
    "print(\"  Params:\", study.best_trial.params)"
   ]
  },
  {
   "cell_type": "code",
   "execution_count": null,
   "metadata": {},
   "outputs": [],
   "source": []
  }
 ],
 "metadata": {
  "colab": {
   "authorship_tag": "ABX9TyP0YwXo044/NMHL66p2Ai86",
   "provenance": []
  },
  "kernelspec": {
   "display_name": ".venv",
   "language": "python",
   "name": "python3"
  },
  "language_info": {
   "codemirror_mode": {
    "name": "ipython",
    "version": 3
   },
   "file_extension": ".py",
   "mimetype": "text/x-python",
   "name": "python",
   "nbconvert_exporter": "python",
   "pygments_lexer": "ipython3",
   "version": "3.12.3"
  }
 },
 "nbformat": 4,
 "nbformat_minor": 0
}
