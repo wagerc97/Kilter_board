{
 "cells": [
  {
   "cell_type": "code",
   "execution_count": null,
   "metadata": {
    "id": "0ioXSvXksW5t"
   },
   "outputs": [
    {
     "name": "stderr",
     "output_type": "stream",
     "text": [
      "/home/fillies/Documents/moon/kilter/.venv/lib/python3.12/site-packages/tqdm/auto.py:21: TqdmWarning: IProgress not found. Please update jupyter and ipywidgets. See https://ipywidgets.readthedocs.io/en/stable/user_install.html\n",
      "  from .autonotebook import tqdm as notebook_tqdm\n"
     ]
    }
   ],
   "source": [
    "%load_ext autoreload\n",
    "%autoreload 2\n",
    "\n",
    "import sys\n",
    "from pathlib import Path\n",
    "sys.path.append(str(Path.cwd().parent))\n",
    "\n",
    "# Project modules\n",
    "from utils import *\n",
    "from utils_visualisation import *\n",
    "from Data_Handler import ClimbingDataset\n",
    "from models import *\n",
    "from engine import *\n",
    "\n",
    "# PyTorch\n",
    "import torch\n",
    "import torch.nn as nn\n",
    "import torch.nn.functional as F\n",
    "import torch.optim as optim\n",
    "from torch.utils.data import DataLoader, Dataset, random_split\n",
    "from torchmetrics.classification import MulticlassAccuracy\n",
    "\n",
    "\n",
    "# Image filters\n",
    "import kornia.filters as KF\n",
    "\n",
    "#Bayesian Hyperparam\n",
    "import optuna"
   ]
  },
  {
   "cell_type": "code",
   "execution_count": 2,
   "metadata": {},
   "outputs": [
    {
     "data": {
      "text/plain": [
       "'cpu'"
      ]
     },
     "execution_count": 2,
     "metadata": {},
     "output_type": "execute_result"
    }
   ],
   "source": [
    "torch.__version__\n",
    "device = \"cuda\" if torch.cuda.is_available() else \"cpu\"\n",
    "device\n"
   ]
  },
  {
   "cell_type": "code",
   "execution_count": null,
   "metadata": {
    "colab": {
     "base_uri": "https://localhost:8080/"
    },
    "executionInfo": {
     "elapsed": 4004,
     "status": "ok",
     "timestamp": 1758101392172,
     "user": {
      "displayName": "Fritz Hocker",
      "userId": "14167107387628010693"
     },
     "user_tz": -120
    },
    "id": "_d5WlH-2scBY",
    "outputId": "28d391ec-7bad-43af-a074-04c2420886e1"
   },
   "outputs": [],
   "source": [
    "def objective(trial: optuna.Trial):\n",
    "    blur_kernel_size = trial.suggest_categorical(\"blur_kernel_size\", [1, 3, 5, 7]) \n",
    "    blur_sigma = trial.suggest_float(\"blur_sigma\", 0.5, 3)\n",
    "    batch_size = trial.suggest_categorical(\"batch_size\", [16, 32, 64])\n",
    "    hidden_units_CNN = trial.suggest_categorical(\"hidden_units_CNN\", [8, 16, 32, 64])\n",
    "    hidden_units_classifier = trial.suggest_categorical(\"hidden_units_classifier\", [16, 32, 64, 128, 256])\n",
    "    lr = trial.suggest_float(\"lr\", 1e-5, 1e-2, log=True)   # log scale\n",
    "    weight_decay = trial.suggest_float(\"weight_decay\", 1e-6, 1e-3, log=True)\n",
    "    \n",
    "    # Load Data \n",
    "    # necessary bc blur is hyperparameter dependent\n",
    "    \n",
    "    transform = KF.GaussianBlur2d(kernel_size=(blur_kernel_size, blur_kernel_size), sigma=(blur_sigma, blur_sigma), border_type=\"constant\")\n",
    "    two_class_dataset = ClimbingDataset(board_names=[\"12 x 12 with kickboard Square\"],\n",
    "                                map=True, \n",
    "                                transform=transform,\n",
    "                                label_filter=[5, 14],  # 6a+ & 7c\n",
    "                                max_samples=10000 \n",
    "    )\n",
    "    num_classes = two_class_dataset.num_classes\n",
    "    \n",
    "    \n",
    "    train_size = int(0.8 * len(two_class_dataset))  # 80% train\n",
    "    test_size = len(two_class_dataset) - train_size\n",
    "\n",
    "    # Deterministic split (set generator seed for reproducibility)\n",
    "    train_dataset, test_dataset = random_split(\n",
    "        two_class_dataset,\n",
    "        [train_size, test_size],\n",
    "        generator=torch.Generator().manual_seed(42)\n",
    "    )\n",
    "\n",
    "    # Wrap in DataLoaders\n",
    "    train_loader = DataLoader(train_dataset, batch_size=batch_size, shuffle=True, num_workers=4, pin_memory=True)\n",
    "    test_loader = DataLoader(test_dataset, batch_size=batch_size, shuffle=False, num_workers=4, pin_memory=True)\n",
    "    \n",
    "    \n",
    "    #Model\n",
    "    model_0 = shallowCNN(input_shape= 4,\n",
    "                     hidden_units_CNN= hidden_units_CNN, \n",
    "                     hidden_units_classifier=  hidden_units_classifier, \n",
    "                     output_shape=num_classes \n",
    "                     ).to(device)\n",
    "\n",
    "\n",
    "    # Loss and Optimizer\n",
    "    loss_fn = torch.nn.BCEWithLogitsLoss()\n",
    "    acc_fn = Multiclass_accuracy()# MulticlassAccuracy(num_classes=num_classes).to(device)\n",
    "    optimizer = optim.Adam(model_0.parameters(), lr=lr, weight_decay=weight_decay )\n",
    "    \n",
    "    \n",
    "    model, history = train_model(\n",
    "        model=model_0,\n",
    "        train_loader=train_loader,\n",
    "        test_loader=test_loader,\n",
    "        loss_fn=loss_fn,\n",
    "        optimizer=optimizer,\n",
    "        acc_fn=acc_fn,\n",
    "        device=device,\n",
    "        epochs=5,\n",
    "        patience=7\n",
    "    )\n",
    "    \n",
    "    return history[\"test_acc\"][-1]\n",
    "    \n",
    "    \n",
    "    \n",
    "    \n",
    "\n"
   ]
  },
  {
   "cell_type": "code",
   "execution_count": 6,
   "metadata": {},
   "outputs": [
    {
     "name": "stderr",
     "output_type": "stream",
     "text": [
      "[I 2025-10-01 09:01:41,714] A new study created in memory with name: no-name-1f7d8f77-288d-4910-b310-d1b28d5ac875\n"
     ]
    },
    {
     "name": "stderr",
     "output_type": "stream",
     "text": [
      "/home/fillies/Documents/moon/kilter/.venv/lib/python3.12/site-packages/torch/utils/data/dataloader.py:666: UserWarning: 'pin_memory' argument is set as true but no accelerator is found, then device pinned memory won't be used.\n",
      "  warnings.warn(warn_msg)\n"
     ]
    },
    {
     "name": "stdout",
     "output_type": "stream",
     "text": [
      "\n",
      "Epoch 0000 | Train loss: 0.68950 | Train acc: 0.00000 | Test loss: 0.68547 | Test acc: 0.00000\n",
      "Timing: total 15.802 s | train 14.568 s | eval 1.234 s\n",
      "\n",
      "Epoch 0001 | Train loss: 0.68466 | Train acc: 0.00000 | Test loss: 0.68214 | Test acc: 0.00000\n",
      "Timing: total 14.811 s | train 13.801 s | eval 1.010 s\n",
      "\n",
      "Epoch 0002 | Train loss: 0.67915 | Train acc: 0.00000 | Test loss: 0.67607 | Test acc: 0.00000\n",
      "Timing: total 10.000 s | train 9.013 s | eval 0.987 s\n",
      "\n",
      "Epoch 0003 | Train loss: 0.67251 | Train acc: 0.00000 | Test loss: 0.66856 | Test acc: 0.00000\n",
      "Timing: total 8.566 s | train 7.464 s | eval 1.101 s\n"
     ]
    },
    {
     "name": "stderr",
     "output_type": "stream",
     "text": [
      "[I 2025-10-01 09:02:59,488] Trial 0 finished with value: 0.0 and parameters: {'blur_kernel_size': 1, 'blur_sigma': 0.864983129635226, 'batch_size': 64, 'hidden_units_CNN': 32, 'hidden_units_classifier': 128, 'lr': 1.9739415868185522e-05, 'weight_decay': 1.946758711498223e-05}. Best is trial 0 with value: 0.0.\n"
     ]
    },
    {
     "name": "stdout",
     "output_type": "stream",
     "text": [
      "\n",
      "Epoch 0004 | Train loss: 0.66419 | Train acc: 0.00000 | Test loss: 0.65908 | Test acc: 0.00000\n",
      "Timing: total 8.986 s | train 8.227 s | eval 0.759 s\n"
     ]
    },
    {
     "name": "stderr",
     "output_type": "stream",
     "text": [
      "/home/fillies/Documents/moon/kilter/.venv/lib/python3.12/site-packages/torch/utils/data/dataloader.py:666: UserWarning: 'pin_memory' argument is set as true but no accelerator is found, then device pinned memory won't be used.\n",
      "  warnings.warn(warn_msg)\n"
     ]
    },
    {
     "name": "stdout",
     "output_type": "stream",
     "text": [
      "\n",
      "Epoch 0000 | Train loss: 0.12811 | Train acc: 0.67220 | Test loss: 0.16989 | Test acc: 0.57661\n",
      "Timing: total 5.875 s | train 4.842 s | eval 1.033 s\n",
      "\n",
      "Epoch 0001 | Train loss: 0.04596 | Train acc: 0.78477 | Test loss: 0.13676 | Test acc: 0.42566\n",
      "Timing: total 4.732 s | train 4.174 s | eval 0.558 s\n",
      "\n",
      "Epoch 0002 | Train loss: 0.04235 | Train acc: 0.80023 | Test loss: 0.30368 | Test acc: 0.42339\n",
      "Timing: total 2.752 s | train 2.172 s | eval 0.580 s\n",
      "\n",
      "Epoch 0003 | Train loss: 0.04648 | Train acc: 0.77269 | Test loss: 0.04775 | Test acc: 0.77329\n",
      "Timing: total 4.968 s | train 4.245 s | eval 0.724 s\n"
     ]
    },
    {
     "name": "stderr",
     "output_type": "stream",
     "text": [
      "[I 2025-10-01 09:04:02,099] Trial 1 finished with value: 0.6916402642216001 and parameters: {'blur_kernel_size': 7, 'blur_sigma': 2.016913904493669, 'batch_size': 32, 'hidden_units_CNN': 16, 'hidden_units_classifier': 32, 'lr': 0.00731542357675252, 'weight_decay': 0.0008924768970092811}. Best is trial 1 with value: 0.6916402642216001.\n"
     ]
    },
    {
     "name": "stdout",
     "output_type": "stream",
     "text": [
      "\n",
      "Epoch 0004 | Train loss: 0.04262 | Train acc: 0.80478 | Test loss: 0.05384 | Test acc: 0.69164\n",
      "Timing: total 5.145 s | train 4.530 s | eval 0.616 s\n"
     ]
    },
    {
     "name": "stderr",
     "output_type": "stream",
     "text": [
      "/home/fillies/Documents/moon/kilter/.venv/lib/python3.12/site-packages/torch/utils/data/dataloader.py:666: UserWarning: 'pin_memory' argument is set as true but no accelerator is found, then device pinned memory won't be used.\n",
      "  warnings.warn(warn_msg)\n"
     ]
    },
    {
     "name": "stdout",
     "output_type": "stream",
     "text": [
      "\n",
      "Epoch 0000 | Train loss: 0.69233 | Train acc: 0.00000 | Test loss: 0.68798 | Test acc: 0.00000\n",
      "Timing: total 22.165 s | train 18.819 s | eval 3.346 s\n",
      "\n",
      "Epoch 0001 | Train loss: 0.68214 | Train acc: 0.00000 | Test loss: 0.67482 | Test acc: 0.00000\n",
      "Timing: total 18.758 s | train 16.848 s | eval 1.911 s\n",
      "\n",
      "Epoch 0002 | Train loss: 0.66395 | Train acc: 0.10243 | Test loss: 0.65101 | Test acc: 0.31079\n",
      "Timing: total 19.989 s | train 19.044 s | eval 0.945 s\n",
      "\n",
      "Epoch 0003 | Train loss: 0.63212 | Train acc: 0.50843 | Test loss: 0.61071 | Test acc: 0.57679\n",
      "Timing: total 24.269 s | train 20.798 s | eval 3.471 s\n"
     ]
    },
    {
     "name": "stderr",
     "output_type": "stream",
     "text": [
      "[I 2025-10-01 09:06:10,385] Trial 2 finished with value: 0.5767857144985881 and parameters: {'blur_kernel_size': 1, 'blur_sigma': 0.9283958087445519, 'batch_size': 16, 'hidden_units_CNN': 64, 'hidden_units_classifier': 128, 'lr': 1.1108931860690296e-05, 'weight_decay': 0.00018203204469520093}. Best is trial 1 with value: 0.6916402642216001.\n"
     ]
    },
    {
     "name": "stdout",
     "output_type": "stream",
     "text": [
      "\n",
      "Epoch 0004 | Train loss: 0.58082 | Train acc: 0.57419 | Test loss: 0.54980 | Test acc: 0.57679\n",
      "Timing: total 23.496 s | train 21.643 s | eval 1.853 s\n"
     ]
    },
    {
     "name": "stderr",
     "output_type": "stream",
     "text": [
      "/home/fillies/Documents/moon/kilter/.venv/lib/python3.12/site-packages/torch/utils/data/dataloader.py:666: UserWarning: 'pin_memory' argument is set as true but no accelerator is found, then device pinned memory won't be used.\n",
      "  warnings.warn(warn_msg)\n"
     ]
    },
    {
     "name": "stdout",
     "output_type": "stream",
     "text": [
      "\n",
      "Epoch 0000 | Train loss: 0.68346 | Train acc: 0.03077 | Test loss: 0.67152 | Test acc: 0.02679\n",
      "Timing: total 3.637 s | train 2.973 s | eval 0.665 s\n",
      "\n",
      "Epoch 0001 | Train loss: 0.65675 | Train acc: 0.01172 | Test loss: 0.63963 | Test acc: 0.00781\n",
      "Timing: total 2.574 s | train 1.980 s | eval 0.593 s\n",
      "\n",
      "Epoch 0002 | Train loss: 0.61838 | Train acc: 0.01758 | Test loss: 0.59407 | Test acc: 0.05588\n",
      "Timing: total 2.454 s | train 1.804 s | eval 0.650 s\n",
      "\n",
      "Epoch 0003 | Train loss: 0.56650 | Train acc: 0.41576 | Test loss: 0.53591 | Test acc: 0.57661\n",
      "Timing: total 3.801 s | train 2.995 s | eval 0.807 s\n",
      "\n",
      "Epoch 0004 | Train loss: 0.50523 | Train acc: 0.57404 | Test loss: 0.47108 | Test acc: 0.57661\n",
      "Timing: total 4.229 s | train 3.335 s | eval 0.894 s\n"
     ]
    },
    {
     "name": "stderr",
     "output_type": "stream",
     "text": [
      "[I 2025-10-01 09:06:55,146] Trial 3 finished with value: 0.576612902539117 and parameters: {'blur_kernel_size': 5, 'blur_sigma': 0.9965253961703988, 'batch_size': 32, 'hidden_units_CNN': 8, 'hidden_units_classifier': 256, 'lr': 1.4300833425940423e-05, 'weight_decay': 1.7890017575792018e-06}. Best is trial 1 with value: 0.6916402642216001.\n",
      "/home/fillies/Documents/moon/kilter/.venv/lib/python3.12/site-packages/torch/utils/data/dataloader.py:666: UserWarning: 'pin_memory' argument is set as true but no accelerator is found, then device pinned memory won't be used.\n",
      "  warnings.warn(warn_msg)\n"
     ]
    },
    {
     "name": "stdout",
     "output_type": "stream",
     "text": [
      "\n",
      "Epoch 0000 | Train loss: 0.09529 | Train acc: 0.62515 | Test loss: 0.07725 | Test acc: 0.57878\n",
      "Timing: total 27.269 s | train 25.751 s | eval 1.518 s\n",
      "\n",
      "Epoch 0001 | Train loss: 0.04943 | Train acc: 0.74892 | Test loss: 0.07710 | Test acc: 0.65473\n",
      "Timing: total 23.764 s | train 22.487 s | eval 1.277 s\n",
      "\n",
      "Epoch 0002 | Train loss: 0.04216 | Train acc: 0.79691 | Test loss: 0.04643 | Test acc: 0.78550\n",
      "Timing: total 29.531 s | train 26.068 s | eval 3.462 s\n",
      "\n",
      "Epoch 0003 | Train loss: 0.04142 | Train acc: 0.80699 | Test loss: 0.09574 | Test acc: 0.62459\n",
      "Timing: total 20.290 s | train 18.664 s | eval 1.626 s\n",
      "\n",
      "Epoch 0004 | Train loss: 0.04033 | Train acc: 0.81401 | Test loss: 0.09047 | Test acc: 0.64803\n",
      "Timing: total 27.134 s | train 25.946 s | eval 1.188 s\n"
     ]
    },
    {
     "name": "stderr",
     "output_type": "stream",
     "text": [
      "[I 2025-10-01 09:09:33,650] Trial 4 finished with value: 0.64803004690579 and parameters: {'blur_kernel_size': 1, 'blur_sigma': 1.3093955476433876, 'batch_size': 64, 'hidden_units_CNN': 64, 'hidden_units_classifier': 256, 'lr': 0.009422492478932074, 'weight_decay': 1.113443504747652e-05}. Best is trial 1 with value: 0.6916402642216001.\n"
     ]
    },
    {
     "name": "stdout",
     "output_type": "stream",
     "text": [
      "Best trial:\n",
      "  Value: 0.6916402642216001\n",
      "  Params: {'blur_kernel_size': 7, 'blur_sigma': 2.016913904493669, 'batch_size': 32, 'hidden_units_CNN': 16, 'hidden_units_classifier': 32, 'lr': 0.00731542357675252, 'weight_decay': 0.0008924768970092811}\n"
     ]
    }
   ],
   "source": [
    "study = optuna.create_study(direction=\"maximize\")\n",
    "study.optimize(objective, n_trials=5)\n",
    "\n",
    "print(\"Best trial:\")\n",
    "print(\"  Value:\", study.best_trial.value)\n",
    "print(\"  Params:\", study.best_trial.params)"
   ]
  },
  {
   "cell_type": "code",
   "execution_count": null,
   "metadata": {},
   "outputs": [],
   "source": []
  }
 ],
 "metadata": {
  "colab": {
   "authorship_tag": "ABX9TyP0YwXo044/NMHL66p2Ai86",
   "provenance": []
  },
  "kernelspec": {
   "display_name": ".venv",
   "language": "python",
   "name": "python3"
  },
  "language_info": {
   "codemirror_mode": {
    "name": "ipython",
    "version": 3
   },
   "file_extension": ".py",
   "mimetype": "text/x-python",
   "name": "python",
   "nbconvert_exporter": "python",
   "pygments_lexer": "ipython3",
   "version": "3.12.3"
  }
 },
 "nbformat": 4,
 "nbformat_minor": 0
}
